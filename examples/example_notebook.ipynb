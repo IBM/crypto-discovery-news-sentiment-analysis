{
 "cells": [
  {
   "cell_type": "markdown",
   "metadata": {},
   "source": [
    "# Introduction\n",
    "\n",
    "First, we must ensure that the Watson Python SDK is installed and ready to use, we'll then import the SDK as well as the pandas library\n",
    "\n",
    "**Note: Using `%%capture` just supresses the output, you can remove the line if you want to see the output from pip**"
   ]
  },
  {
   "cell_type": "code",
   "execution_count": 1,
   "metadata": {},
   "outputs": [
    {
     "name": "stdout",
     "output_type": "stream",
     "text": [
      "Collecting watson_developer_cloud\n",
      "  Downloading https://files.pythonhosted.org/packages/5a/87/088979f4ef208b4159390c3976345192484d7309698c68fc022e74f932e6/watson-developer-cloud-1.7.1.tar.gz (238kB)\n",
      "\u001b[K    100% |████████████████████████████████| 245kB 3.7MB/s eta 0:00:01\n",
      "\u001b[?25hRequirement not upgraded as not directly required: requests<3.0,>=2.0 in /opt/conda/envs/DSX-Python35/lib/python3.5/site-packages (from watson_developer_cloud)\n",
      "Requirement not upgraded as not directly required: python_dateutil>=2.5.3 in /opt/conda/envs/DSX-Python35/lib/python3.5/site-packages (from watson_developer_cloud)\n",
      "Collecting autobahn>=0.10.9 (from watson_developer_cloud)\n",
      "  Downloading https://files.pythonhosted.org/packages/21/df/1b99046b921c6f80d0bd92edbc6e2ef986df1fd6e1ac7dd88ad3fc56b670/autobahn-18.9.1-py2.py3-none-any.whl (298kB)\n",
      "\u001b[K    100% |████████████████████████████████| 307kB 3.1MB/s eta 0:00:01\n",
      "\u001b[?25hCollecting Twisted>=13.2.0 (from watson_developer_cloud)\n",
      "  Downloading https://files.pythonhosted.org/packages/90/50/4c315ce5d119f67189d1819629cae7908ca0b0a6c572980df5cc6942bc22/Twisted-18.7.0.tar.bz2 (3.1MB)\n",
      "\u001b[K    100% |████████████████████████████████| 3.1MB 328kB/s eta 0:00:01\n",
      "\u001b[?25hRequirement not upgraded as not directly required: pyOpenSSL>=16.2.0 in /opt/conda/envs/DSX-Python35/lib/python3.5/site-packages (from watson_developer_cloud)\n",
      "Collecting service-identity>=17.0.0 (from watson_developer_cloud)\n",
      "  Downloading https://files.pythonhosted.org/packages/29/fa/995e364220979e577e7ca232440961db0bf996b6edaf586a7d1bd14d81f1/service_identity-17.0.0-py2.py3-none-any.whl\n",
      "Requirement not upgraded as not directly required: chardet<3.1.0,>=3.0.2 in /opt/conda/envs/DSX-Python35/lib/python3.5/site-packages (from requests<3.0,>=2.0->watson_developer_cloud)\n",
      "Requirement not upgraded as not directly required: idna<2.7,>=2.5 in /opt/conda/envs/DSX-Python35/lib/python3.5/site-packages (from requests<3.0,>=2.0->watson_developer_cloud)\n",
      "Requirement not upgraded as not directly required: urllib3<1.23,>=1.21.1 in /opt/conda/envs/DSX-Python35/lib/python3.5/site-packages (from requests<3.0,>=2.0->watson_developer_cloud)\n",
      "Requirement not upgraded as not directly required: certifi>=2017.4.17 in /opt/conda/envs/DSX-Python35/lib/python3.5/site-packages (from requests<3.0,>=2.0->watson_developer_cloud)\n",
      "Requirement not upgraded as not directly required: six>=1.5 in /opt/conda/envs/DSX-Python35/lib/python3.5/site-packages (from python_dateutil>=2.5.3->watson_developer_cloud)\n",
      "Collecting txaio>=18.8.1 (from autobahn>=0.10.9->watson_developer_cloud)\n",
      "  Downloading https://files.pythonhosted.org/packages/e9/6d/e1a6f7835cde86728e5bb1f577be9b2d7d273fdb33c286e70b087d418ded/txaio-18.8.1-py2.py3-none-any.whl\n",
      "Collecting zope.interface>=4.4.2 (from Twisted>=13.2.0->watson_developer_cloud)\n",
      "  Downloading https://files.pythonhosted.org/packages/ac/8a/657532df378c2cd2a1fe6b12be3b4097521570769d4852ec02c24bd3594e/zope.interface-4.5.0.tar.gz (151kB)\n",
      "\u001b[K    100% |████████████████████████████████| 153kB 6.2MB/s eta 0:00:01\n",
      "\u001b[?25hCollecting constantly>=15.1 (from Twisted>=13.2.0->watson_developer_cloud)\n",
      "  Downloading https://files.pythonhosted.org/packages/b9/65/48c1909d0c0aeae6c10213340ce682db01b48ea900a7d9fce7a7910ff318/constantly-15.1.0-py2.py3-none-any.whl\n",
      "Collecting incremental>=16.10.1 (from Twisted>=13.2.0->watson_developer_cloud)\n",
      "  Downloading https://files.pythonhosted.org/packages/f5/1d/c98a587dc06e107115cf4a58b49de20b19222c83d75335a192052af4c4b7/incremental-17.5.0-py2.py3-none-any.whl\n",
      "Collecting Automat>=0.3.0 (from Twisted>=13.2.0->watson_developer_cloud)\n",
      "  Downloading https://files.pythonhosted.org/packages/a3/86/14c16bb98a5a3542ed8fed5d74fb064a902de3bdd98d6584b34553353c45/Automat-0.7.0-py2.py3-none-any.whl\n",
      "Collecting hyperlink>=17.1.1 (from Twisted>=13.2.0->watson_developer_cloud)\n",
      "  Downloading https://files.pythonhosted.org/packages/a7/b6/84d0c863ff81e8e7de87cff3bd8fd8f1054c227ce09af1b679a8b17a9274/hyperlink-18.0.0-py2.py3-none-any.whl\n",
      "Collecting PyHamcrest>=1.9.0 (from Twisted>=13.2.0->watson_developer_cloud)\n",
      "  Downloading https://files.pythonhosted.org/packages/9a/d5/d37fd731b7d0e91afcc84577edeccf4638b4f9b82f5ffe2f8b62e2ddc609/PyHamcrest-1.9.0-py2.py3-none-any.whl (52kB)\n",
      "\u001b[K    100% |████████████████████████████████| 61kB 10.4MB/s ta 0:00:01\n",
      "\u001b[?25hCollecting attrs>=17.4.0 (from Twisted>=13.2.0->watson_developer_cloud)\n",
      "  Downloading https://files.pythonhosted.org/packages/3a/e1/5f9023cc983f1a628a8c2fd051ad19e76ff7b142a0faf329336f9a62a514/attrs-18.2.0-py2.py3-none-any.whl\n",
      "Requirement not upgraded as not directly required: cryptography>=2.2.1 in /opt/conda/envs/DSX-Python35/lib/python3.5/site-packages (from pyOpenSSL>=16.2.0->watson_developer_cloud)\n",
      "Collecting pyasn1 (from service-identity>=17.0.0->watson_developer_cloud)\n",
      "  Downloading https://files.pythonhosted.org/packages/d1/a1/7790cc85db38daa874f6a2e6308131b9953feb1367f2ae2d1123bb93a9f5/pyasn1-0.4.4-py2.py3-none-any.whl (72kB)\n",
      "\u001b[K    100% |████████████████████████████████| 81kB 9.5MB/s eta 0:00:01\n",
      "\u001b[?25hCollecting pyasn1-modules (from service-identity>=17.0.0->watson_developer_cloud)\n",
      "  Downloading https://files.pythonhosted.org/packages/19/02/fa63f7ba30a0d7b925ca29d034510fc1ffde53264b71b4155022ddf3ab5d/pyasn1_modules-0.2.2-py2.py3-none-any.whl (62kB)\n",
      "\u001b[K    100% |████████████████████████████████| 71kB 9.5MB/s eta 0:00:01\n",
      "\u001b[?25hRequirement not upgraded as not directly required: setuptools in /opt/conda/envs/DSX-Python35/lib/python3.5/site-packages (from zope.interface>=4.4.2->Twisted>=13.2.0->watson_developer_cloud)\n",
      "Requirement not upgraded as not directly required: asn1crypto>=0.21.0 in /opt/conda/envs/DSX-Python35/lib/python3.5/site-packages (from cryptography>=2.2.1->pyOpenSSL>=16.2.0->watson_developer_cloud)\n",
      "Requirement not upgraded as not directly required: cffi>=1.7 in /opt/conda/envs/DSX-Python35/lib/python3.5/site-packages (from cryptography>=2.2.1->pyOpenSSL>=16.2.0->watson_developer_cloud)\n",
      "Requirement not upgraded as not directly required: pycparser in /opt/conda/envs/DSX-Python35/lib/python3.5/site-packages (from cffi>=1.7->cryptography>=2.2.1->pyOpenSSL>=16.2.0->watson_developer_cloud)\n",
      "Building wheels for collected packages: watson-developer-cloud, Twisted, zope.interface\n",
      "  Running setup.py bdist_wheel for watson-developer-cloud ... \u001b[?25ldone\n",
      "\u001b[?25h  Stored in directory: /home/dsxuser/.cache/pip/wheels/6c/b3/fd/38af2fdd01ee1a3d9e00eb52af0453411e8b3171e7b00ab3ba\n",
      "  Running setup.py bdist_wheel for Twisted ... \u001b[?25ldone\n",
      "\u001b[?25h  Stored in directory: /home/dsxuser/.cache/pip/wheels/a9/85/24/fc82998fb686cb31e65a26c027a20120fd1219c9f1e925913a\n",
      "  Running setup.py bdist_wheel for zope.interface ... \u001b[?25ldone\n",
      "\u001b[?25h  Stored in directory: /home/dsxuser/.cache/pip/wheels/c6/b2/d2/be6785a207eaa58d76debc10c9d5c66196b40a88abb61d6af7\n",
      "Successfully built watson-developer-cloud Twisted zope.interface\n",
      "Installing collected packages: txaio, autobahn, zope.interface, constantly, incremental, attrs, Automat, hyperlink, PyHamcrest, Twisted, pyasn1, pyasn1-modules, service-identity, watson-developer-cloud\n",
      "Successfully installed Automat-0.7.0 PyHamcrest-1.9.0 Twisted-18.7.0 attrs-18.2.0 autobahn-18.9.1 constantly-15.1.0 hyperlink-18.0.0 incremental-17.5.0 pyasn1-0.4.4 pyasn1-modules-0.2.2 service-identity-17.0.0 txaio-18.8.1 watson-developer-cloud-1.7.1 zope.interface-4.5.0\n"
     ]
    }
   ],
   "source": [
    "\n",
    "!pip install watson_developer_cloud"
   ]
  },
  {
   "cell_type": "code",
   "execution_count": 2,
   "metadata": {},
   "outputs": [],
   "source": [
    "from watson_developer_cloud import DiscoveryV1\n",
    "import pandas as pd"
   ]
  },
  {
   "cell_type": "markdown",
   "metadata": {},
   "source": [
    "# Initialize Watson Discovery\n",
    "\n",
    "Now we'll initialize Watson Discovery using our login credentials. In order to obtain these, create a Watson Discovery services with your IBM Cloud account, and generate new credentials."
   ]
  },
  {
   "cell_type": "code",
   "execution_count": 3,
   "metadata": {},
   "outputs": [],
   "source": [
    "# Enter your own credentials below - be sure to wrap each inside of single quotation marks\n",
    "credentials = {\n",
    "    'DISCOVERY_USERNAME': '146b4bdc-5617-475c-a6d2-f6eed07d3a08',\n",
    "    'DISCOVERY_PASSWORD': 'wcqcDsRaUAJY'\n",
    "}"
   ]
  },
  {
   "cell_type": "code",
   "execution_count": 6,
   "metadata": {},
   "outputs": [],
   "source": [
    "discovery = DiscoveryV1(\n",
    "    version='2018-08-01',\n",
    "    username= credentials['DISCOVERY_USERNAME'],\n",
    "    password= credentials['DISCOVERY_PASSWORD'])"
   ]
  },
  {
   "cell_type": "markdown",
   "metadata": {},
   "source": [
    "# Creating the query\n",
    "\n",
    "There are a few elements to querying Watson Discovery news, I'll break down each of the elements.\n",
    "\n",
    "`environment_id`: `system` just denotes that we're using the system environment\n",
    "\n",
    "`collection_id`: We want to query the news collection\n",
    "\n",
    "`query`: Basically we will be using a filter in order to isolate the articles that we want, so a query is not neccesary in this case\n",
    "\n",
    "`offset`: The number of results (documents) to skip\n",
    "\n",
    "`count`: The number of results (documents) to return \n",
    "\n",
    "***note: Count and offset is the way pagination of results is implemented, the maximum of total results (offset + count) cannot exceed 1,000***\n",
    "\n",
    "`deduplicate`: This is a beta feature to have Watson remove duplicate articles\n",
    "\n",
    "`aggregation`: This is a analytic query of the results set - in this case, the entire collection of news articles, filtered by Company (in this case 'bitcoin' is the company in question)\n",
    "\n",
    "`filter`: The query for matching documents\n",
    "\n",
    "`return_fields`: What items to actually return to us for our use\n",
    "\n",
    "**For more information, check out the [query reference](https://cloud.ibm.com/docs/services/discovery/query-reference.html#query-reference)**\n",
    "\n",
    "\n",
    "We are using DEFAULT_COUNT of 50, the maximum you can query at once, and incrementing until we've captured all available documents or hit 1,000 (the maximum)."
   ]
  },
  {
   "cell_type": "code",
   "execution_count": 5,
   "metadata": {},
   "outputs": [],
   "source": [
    "all_results = []\n",
    "\n",
    "DEFAULT_COUNT = 50\n",
    "offset = 0\n",
    "\n",
    "while offset + DEFAULT_COUNT <= 1000:\n",
    "    try:\n",
    "        result = discovery.query(environment_id='system',\n",
    "                                 collection_id='news-en',\n",
    "                                 query='',\n",
    "                                 offset=offset,\n",
    "                                 count=DEFAULT_COUNT,\n",
    "                                 deduplicate=True,\n",
    "                                 aggregation='filter(enriched_title.entities.type::Company).term(enriched_title.entities.text).timeslice(crawl_date,1day).term(enriched_text.sentiment.document.score)',\n",
    "                                 filter='Bitcoin',\n",
    "                                 return_fields=['publication_date', 'enriched_text.sentiment.document'])\n",
    "        \n",
    "        # If the results are empty, stop querying\n",
    "        if not result['results']:\n",
    "            break\n",
    "        \n",
    "        # Add results to all_results and increment offset\n",
    "        all_results.extend(result['results'])\n",
    "        \n",
    "        offset += offset + DEFAULT_COUNT\n",
    "    except:\n",
    "        break"
   ]
  },
  {
   "cell_type": "markdown",
   "metadata": {},
   "source": [
    "# Using the data\n",
    "\n",
    "Now that we've queried Watson Discovery, we need to make the data usable. What is returned is an object with a few different fields, the one we're concerned with though is `results` (the items we asked for in `return_fields` of the query will be here). After each query in the previous `while` loop, we added the `result['results']` to an array of all results. Now we'll work with them.\n",
    "\n",
    "First we'll create a pandas dataframe, think of it as putting the data into a spreadsheet. Then we'll iterate over the array of results, and add them to our new dataframe."
   ]
  },
  {
   "cell_type": "code",
   "execution_count": 7,
   "metadata": {},
   "outputs": [],
   "source": [
    "df = pd.DataFrame()"
   ]
  },
  {
   "cell_type": "code",
   "execution_count": 8,
   "metadata": {},
   "outputs": [],
   "source": [
    "_date = []\n",
    "_sentiment_label = []\n",
    "_sentiment_score = []\n",
    "\n",
    "for r in all_results:\n",
    "    _date.append(r['publication_date'])\n",
    "    _sentiment_label.append(r['enriched_text']['sentiment']['document']['label'])\n",
    "    _sentiment_score.append(r['enriched_text']['sentiment']['document']['score'])"
   ]
  },
  {
   "cell_type": "code",
   "execution_count": 9,
   "metadata": {},
   "outputs": [],
   "source": [
    "df['publication_date'] = _date\n",
    "df['sentiment_label'] = _sentiment_label\n",
    "df['sentiment_score'] = _sentiment_score\n",
    "df.index = df['publication_date']"
   ]
  },
  {
   "cell_type": "code",
   "execution_count": 10,
   "metadata": {},
   "outputs": [],
   "source": [
    "df['publication_date'] = pd.to_datetime(df['publication_date'])\n",
    "df.index = df['publication_date']"
   ]
  },
  {
   "cell_type": "markdown",
   "metadata": {},
   "source": [
    "# Looking at the data\n",
    "\n",
    "When we call the  `df.head()` function, we can visually see the first portion of our data - remember the concept of a spreadsheet? Here we can see how the sentiment label coorelates to the score. Sentinent scores range from negative to positive, -1 to 1, with 0 being neutral. Watson has just taken the leg work away from assigning a label, but you could easily do this yourself as well."
   ]
  },
  {
   "cell_type": "code",
   "execution_count": 11,
   "metadata": {},
   "outputs": [
    {
     "data": {
      "text/html": [
       "<div>\n",
       "<style scoped>\n",
       "    .dataframe tbody tr th:only-of-type {\n",
       "        vertical-align: middle;\n",
       "    }\n",
       "\n",
       "    .dataframe tbody tr th {\n",
       "        vertical-align: top;\n",
       "    }\n",
       "\n",
       "    .dataframe thead th {\n",
       "        text-align: right;\n",
       "    }\n",
       "</style>\n",
       "<table border=\"1\" class=\"dataframe\">\n",
       "  <thead>\n",
       "    <tr style=\"text-align: right;\">\n",
       "      <th></th>\n",
       "      <th>publication_date</th>\n",
       "      <th>sentiment_label</th>\n",
       "      <th>sentiment_score</th>\n",
       "    </tr>\n",
       "    <tr>\n",
       "      <th>publication_date</th>\n",
       "      <th></th>\n",
       "      <th></th>\n",
       "      <th></th>\n",
       "    </tr>\n",
       "  </thead>\n",
       "  <tbody>\n",
       "    <tr>\n",
       "      <th>2018-07-22 22:24:00</th>\n",
       "      <td>2018-07-22 22:24:00</td>\n",
       "      <td>negative</td>\n",
       "      <td>-0.417067</td>\n",
       "    </tr>\n",
       "    <tr>\n",
       "      <th>2018-07-22 22:24:00</th>\n",
       "      <td>2018-07-22 22:24:00</td>\n",
       "      <td>negative</td>\n",
       "      <td>-0.399161</td>\n",
       "    </tr>\n",
       "    <tr>\n",
       "      <th>2018-07-22 22:40:00</th>\n",
       "      <td>2018-07-22 22:40:00</td>\n",
       "      <td>negative</td>\n",
       "      <td>-0.534784</td>\n",
       "    </tr>\n",
       "    <tr>\n",
       "      <th>2018-07-22 22:24:00</th>\n",
       "      <td>2018-07-22 22:24:00</td>\n",
       "      <td>negative</td>\n",
       "      <td>-0.425185</td>\n",
       "    </tr>\n",
       "    <tr>\n",
       "      <th>2018-07-22 22:24:00</th>\n",
       "      <td>2018-07-22 22:24:00</td>\n",
       "      <td>negative</td>\n",
       "      <td>-0.534289</td>\n",
       "    </tr>\n",
       "  </tbody>\n",
       "</table>\n",
       "</div>"
      ],
      "text/plain": [
       "                       publication_date sentiment_label  sentiment_score\n",
       "publication_date                                                        \n",
       "2018-07-22 22:24:00 2018-07-22 22:24:00        negative        -0.417067\n",
       "2018-07-22 22:24:00 2018-07-22 22:24:00        negative        -0.399161\n",
       "2018-07-22 22:40:00 2018-07-22 22:40:00        negative        -0.534784\n",
       "2018-07-22 22:24:00 2018-07-22 22:24:00        negative        -0.425185\n",
       "2018-07-22 22:24:00 2018-07-22 22:24:00        negative        -0.534289"
      ]
     },
     "execution_count": 11,
     "metadata": {},
     "output_type": "execute_result"
    }
   ],
   "source": [
    "df.head()"
   ]
  },
  {
   "cell_type": "markdown",
   "metadata": {},
   "source": [
    "# Visualizing the data\n",
    "\n",
    "Now that we've set up our dataframe, we can use `matplotlib` to visualize a portion of the data. In this example, we're using the sentiment label (negative, positive, neutral), and visualize the data in a pie chart.\n",
    "\n",
    "First we import `matplotlib.pyplot`, and just for aesthetics, set the style to use `fivethirtyeight` (as an aside, if you call `matplotlib.style.available`, you can see a full list of styles available. You could also not set the style and use the default as well).\n",
    "\n",
    "Finally, the column we want to analyze we previously named `sentimnent`, we access the column with `df['sentiment']`, we then call the helper function `value_counts()` to get a count of each sentiment lable, and then finally use the `plot()` method to plot the data in a pie chart."
   ]
  },
  {
   "cell_type": "code",
   "execution_count": 13,
   "metadata": {},
   "outputs": [
    {
     "data": {
      "image/png": "[encoded data removed]",
      "text/plain": [
       "<matplotlib.figure.Figure at 0x7efce4026e80>"
      ]
     },
     "metadata": {},
     "output_type": "display_data"
    }
   ],
   "source": [
    "import matplotlib.pyplot as plt\n",
    "plt.style.use('fivethirtyeight')\n",
    "\n",
    "df['sentiment_label'].value_counts().plot(kind='pie', \n",
    "                                    subplots=False, \n",
    "                                    explode=(0.05, 0.05, 0.05), \n",
    "                                    startangle=100,\n",
    "                                    pctdistance=0.85,\n",
    "                                    autopct='%1.1f%%',\n",
    "                                    title='Sentiment of articles reporting on Bitcoin')\n",
    "\n",
    "# center_circle = plt.Circle((0,0),0.70,fc='white')\n",
    "# fig = plt.gcf()\n",
    "# fig.gca().add_artist(center_circle)\n",
    "\n",
    "plt.tight_layout()\n",
    "plt.show()"
   ]
  },
  {
   "cell_type": "code",
   "execution_count": null,
   "metadata": {},
   "outputs": [],
   "source": []
  },
  {
   "cell_type": "code",
   "execution_count": null,
   "metadata": {},
   "outputs": [],
   "source": []
  }
 ],
 "metadata": {
  "kernelspec": {
   "display_name": "Python 3.5",
   "language": "python",
   "name": "python3"
  },
  "language_info": {
   "codemirror_mode": {
    "name": "ipython",
    "version": 3
   },
   "file_extension": ".py",
   "mimetype": "text/x-python",
   "name": "python",
   "nbconvert_exporter": "python",
   "pygments_lexer": "ipython3",
   "version": "3.5.5"
  }
 },
 "nbformat": 4,
 "nbformat_minor": 1
}
